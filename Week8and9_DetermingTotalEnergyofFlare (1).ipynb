{
  "nbformat": 4,
  "nbformat_minor": 0,
  "metadata": {
    "colab": {
      "name": "Week8and9_DetermingTotalEnergyofFlare.ipynb",
      "provenance": [],
      "collapsed_sections": []
    },
    "kernelspec": {
      "display_name": "Python 3",
      "name": "python3"
    }
  },
  "cells": [
    {
      "cell_type": "markdown",
      "metadata": {
        "id": "sX7HCiXZfv6F"
      },
      "source": [
        "# **Team ID:** section 302 team 2: 69373\n"
      ]
    },
    {
      "cell_type": "markdown",
      "metadata": {
        "id": "hIy_0Svcf8lc"
      },
      "source": [
        "# **Flare Information:**\n",
        "\n",
        "**Flare name:** Flare 302-2 BH\n",
        "\n",
        "**Flare date and time (in UCT) of the peak of the flare:** 2012-09-27\n",
        "17:20\n",
        "\n",
        "**Approximate peak height (in $W/m^2$):** 6.38 * 10^-6\n",
        "\n",
        "**Flare subclass (e.g., C5):** C6"
      ]
    },
    {
      "cell_type": "markdown",
      "metadata": {
        "id": "U8yvZDCtYeG5"
      },
      "source": [
        "# **Weeks 8 and 9: Determing total energy of your own flare**\n",
        "\n",
        "Welcome to Weeks 8 and 9! During these next two labs, you will be choosing your own flare to analyze from the Space Weather Data Portal and calculating the total energy of the flare. Your lab group has been assigned a flare class--you can find this assignment on Canvas. \n",
        "\n",
        "Remember, the [X-ray flare classification](https://spaceweather.com/glossary/flareclasses.html) represents the peak irradiance of the flare (as seen for wavelengths within the 1 to 8 $Å$ range) and   includes two parts. First, a letter (A, B, C, M, and X) representing an order of magnitude of the flare, and secondly, a number (1-9) within the specified order. For example, a X3 flare has a peak irradiance of $3 × 10^{-4}$ $W/m^2$; whereas, a M3 flare has ten times lower peak irradiance. If the flare is larger than an X9 ($9 \\times 10^{-4} W/m^2$), then the number is extended beyond 9. For example, a X14 flare has a peak irradiance of $14 × 10^{-4} W/m^2$. \n",
        "\n",
        "Today, you will start working on five tasks. You do not have to finish today, as you will finish working on these in week 9, but **you should at least be starting the baseline correction in Task 4** by the end of lab today. \n",
        "\n",
        "> (1) Go to the Space Weather Data Portal and choose a flare from the assigned class.\n",
        "\n",
        "> (2) Provide a description of the flare you chose at the top of the page and give the flare a unique name--be creative! \n",
        "\n",
        "> (3) Download the data from the flare into a CSV file.\n",
        "\n",
        "> (4) Use a similar procedure from last weeks lab and modify the code you wrote to determine the total energy of the flare of this flare.\n",
        "\n",
        "> (5) Document your code using markdown cells and comments to explain your procedure. **Save your colab notebook file as a PDF to turn in by 11pm MT the day after your Week 9 lab.**\n",
        "\n",
        "> (6) Bonus: If you finish, find more flares to analyze! If you analyze more flares create a **new** Colab Notebook for each flare."
      ]
    },
    {
      "cell_type": "markdown",
      "metadata": {
        "id": "LgaCcNfNRknV"
      },
      "source": [
        "# **Task 1: Find your solar flare**\n",
        "\n",
        "Go onto the [Space Weather Data Portal website](https://lasp.colorado.edu/space-weather-portal/) and follow the [tutorial posted on Canvas](https://canvas.colorado.edu/courses/64020/pages/week-8#Tutorial2) to find a flare of the assigned class type that occured during the **GOES-15 satellite solar maxiumum (01/01/2011 - 01/01/2015)**. \n",
        "\n",
        "Choose the flares to help the research project (i.e, not flares that have been previously analyzed in the class such as the Sept. 10th, 2017 flare or the flares from the baseline correction examples colab notebook which occurred on May 5th, 2015, November 11th, 2013 and March 31st, 2011).\n",
        "\n"
      ]
    },
    {
      "cell_type": "markdown",
      "metadata": {
        "id": "Y3mEFqQ4R7cT"
      },
      "source": [
        "# **Task 2: Describe your flare**\n",
        "\n",
        "Take a minute to provide the flare information at the top of the page. Here, create a new markdown cell below and give a general description of any features of the flare that stand out to you. In particular, please discuss the circumstances of the flares occurance (e.g., was it part of a group of intense solar activitiy or an isolated flare). You may also add graphs or pictures of the flare, links to articles about the flare, etc."
      ]
    },
    {
      "cell_type": "markdown",
      "metadata": {
        "id": "8AO1H88K_hNh"
      },
      "source": [
        "Our flare occurs 2012-09-27, 16:00-18:30, and was read by the GOES-15. Fittingly, we decided to name the flare \"Flare 302-2\". The peak iradiance tops out somewhere around 6*10^-6, indicating that this is a C6 class flare. The begining, of the the flare is pretty clean, meaning there is not a lot of pre-flare activity and the flare stands out. On the other hand, the end of the flare has a small imperfection in its rate. This could cause us trouble as it indicates there is other flare happening in the background of this larger C class flare. "
      ]
    },
    {
      "cell_type": "markdown",
      "metadata": {
        "id": "KzuRGk4ZSv8E"
      },
      "source": [
        "# **Task 3: Download the data**\n",
        "\n",
        "Download the longwave data from the Space Weather Data Portal website as a .csv file."
      ]
    },
    {
      "cell_type": "markdown",
      "metadata": {
        "id": "gsRDfdNBjfNp"
      },
      "source": [
        "# **Task 4: Determine total energy of flare**\n",
        "\n",
        "Import the XRS longwave data of the solar flare you chose onto your personal computer. You can follow the same procedure that you used in the Week 5 lab.\n",
        "\n",
        "Execute the code cell below to save the data into the variable \"solar_data\". Note, you may need to change the file name to match the file you imported into this session. Additionally, if you leave this session you may need to repeat the above steps to import the file again."
      ]
    },
    {
      "cell_type": "code",
      "metadata": {
        "colab": {
          "base_uri": "https://localhost:8080/",
          "height": 436
        },
        "id": "0U_woJrZYN59",
        "outputId": "7295a6a1-e120-457f-efc4-917800c1f3b5"
      },
      "source": [
        "import pandas as pd\n",
        "\n",
        "solar_data = pd.read_csv('noaa_goes15_xrs_1m.csv')     # Import data using pandas library. Changing this name to match your uploaded data\n",
        "\n",
        "display(solar_data)       # Displaying the dataframe of the solar data"
      ],
      "execution_count": null,
      "outputs": [
        {
          "output_type": "display_data",
          "data": {
            "text/html": [
              "<div>\n",
              "<style scoped>\n",
              "    .dataframe tbody tr th:only-of-type {\n",
              "        vertical-align: middle;\n",
              "    }\n",
              "\n",
              "    .dataframe tbody tr th {\n",
              "        vertical-align: top;\n",
              "    }\n",
              "\n",
              "    .dataframe thead th {\n",
              "        text-align: right;\n",
              "    }\n",
              "</style>\n",
              "<table border=\"1\" class=\"dataframe\">\n",
              "  <thead>\n",
              "    <tr style=\"text-align: right;\">\n",
              "      <th></th>\n",
              "      <th>time (seconds since 2000-01-01 12:00:00)</th>\n",
              "      <th>shortwave (W/m^2)</th>\n",
              "      <th>longwave (W/m^2)</th>\n",
              "      <th>shortwave_flag</th>\n",
              "      <th>longwave_flag</th>\n",
              "      <th>shortwave_masked (W/m^2)</th>\n",
              "      <th>longwave_masked (W/m^2)</th>\n",
              "    </tr>\n",
              "  </thead>\n",
              "  <tbody>\n",
              "    <tr>\n",
              "      <th>0</th>\n",
              "      <td>402029400.0</td>\n",
              "      <td>1.000000e-09</td>\n",
              "      <td>4.494391e-07</td>\n",
              "      <td>16</td>\n",
              "      <td>16</td>\n",
              "      <td>1.000000e-09</td>\n",
              "      <td>4.494391e-07</td>\n",
              "    </tr>\n",
              "    <tr>\n",
              "      <th>1</th>\n",
              "      <td>402029460.0</td>\n",
              "      <td>1.000000e-09</td>\n",
              "      <td>4.434477e-07</td>\n",
              "      <td>16</td>\n",
              "      <td>16</td>\n",
              "      <td>1.000000e-09</td>\n",
              "      <td>4.434477e-07</td>\n",
              "    </tr>\n",
              "    <tr>\n",
              "      <th>2</th>\n",
              "      <td>402029520.0</td>\n",
              "      <td>1.000000e-09</td>\n",
              "      <td>4.413928e-07</td>\n",
              "      <td>16</td>\n",
              "      <td>16</td>\n",
              "      <td>1.000000e-09</td>\n",
              "      <td>4.413928e-07</td>\n",
              "    </tr>\n",
              "    <tr>\n",
              "      <th>3</th>\n",
              "      <td>402029580.0</td>\n",
              "      <td>1.000000e-09</td>\n",
              "      <td>4.373697e-07</td>\n",
              "      <td>16</td>\n",
              "      <td>16</td>\n",
              "      <td>1.000000e-09</td>\n",
              "      <td>4.373697e-07</td>\n",
              "    </tr>\n",
              "    <tr>\n",
              "      <th>4</th>\n",
              "      <td>402029640.0</td>\n",
              "      <td>1.000000e-09</td>\n",
              "      <td>4.324079e-07</td>\n",
              "      <td>16</td>\n",
              "      <td>16</td>\n",
              "      <td>1.000000e-09</td>\n",
              "      <td>4.324079e-07</td>\n",
              "    </tr>\n",
              "    <tr>\n",
              "      <th>...</th>\n",
              "      <td>...</td>\n",
              "      <td>...</td>\n",
              "      <td>...</td>\n",
              "      <td>...</td>\n",
              "      <td>...</td>\n",
              "      <td>...</td>\n",
              "      <td>...</td>\n",
              "    </tr>\n",
              "    <tr>\n",
              "      <th>234</th>\n",
              "      <td>402043440.0</td>\n",
              "      <td>1.000000e-09</td>\n",
              "      <td>4.555387e-07</td>\n",
              "      <td>16</td>\n",
              "      <td>16</td>\n",
              "      <td>1.000000e-09</td>\n",
              "      <td>4.555387e-07</td>\n",
              "    </tr>\n",
              "    <tr>\n",
              "      <th>235</th>\n",
              "      <td>402043500.0</td>\n",
              "      <td>1.000000e-09</td>\n",
              "      <td>4.529431e-07</td>\n",
              "      <td>16</td>\n",
              "      <td>16</td>\n",
              "      <td>1.000000e-09</td>\n",
              "      <td>4.529431e-07</td>\n",
              "    </tr>\n",
              "    <tr>\n",
              "      <th>236</th>\n",
              "      <td>402043560.0</td>\n",
              "      <td>1.581271e-09</td>\n",
              "      <td>4.546130e-07</td>\n",
              "      <td>16</td>\n",
              "      <td>16</td>\n",
              "      <td>1.581271e-09</td>\n",
              "      <td>4.546130e-07</td>\n",
              "    </tr>\n",
              "    <tr>\n",
              "      <th>237</th>\n",
              "      <td>402043620.0</td>\n",
              "      <td>1.505626e-09</td>\n",
              "      <td>4.494391e-07</td>\n",
              "      <td>16</td>\n",
              "      <td>16</td>\n",
              "      <td>1.505626e-09</td>\n",
              "      <td>4.494391e-07</td>\n",
              "    </tr>\n",
              "    <tr>\n",
              "      <th>238</th>\n",
              "      <td>402043680.0</td>\n",
              "      <td>1.000000e-09</td>\n",
              "      <td>4.493093e-07</td>\n",
              "      <td>16</td>\n",
              "      <td>16</td>\n",
              "      <td>1.000000e-09</td>\n",
              "      <td>4.493093e-07</td>\n",
              "    </tr>\n",
              "  </tbody>\n",
              "</table>\n",
              "<p>239 rows × 7 columns</p>\n",
              "</div>"
            ],
            "text/plain": [
              "     time (seconds since 2000-01-01 12:00:00)  ...  longwave_masked (W/m^2)\n",
              "0                                 402029400.0  ...             4.494391e-07\n",
              "1                                 402029460.0  ...             4.434477e-07\n",
              "2                                 402029520.0  ...             4.413928e-07\n",
              "3                                 402029580.0  ...             4.373697e-07\n",
              "4                                 402029640.0  ...             4.324079e-07\n",
              "..                                        ...  ...                      ...\n",
              "234                               402043440.0  ...             4.555387e-07\n",
              "235                               402043500.0  ...             4.529431e-07\n",
              "236                               402043560.0  ...             4.546130e-07\n",
              "237                               402043620.0  ...             4.494391e-07\n",
              "238                               402043680.0  ...             4.493093e-07\n",
              "\n",
              "[239 rows x 7 columns]"
            ]
          },
          "metadata": {}
        }
      ]
    },
    {
      "cell_type": "markdown",
      "metadata": {
        "id": "IMut-LToqmqi"
      },
      "source": [
        "The solar flare data is in the units of solar irradiance ($\\frac{W}{m^2}$). As you know by now, the next step is to use this to calculate energy per second ($ergs/s$) and convert time from ISO units to seconds. \n",
        "\n",
        "You've done this multiple times before at this point, so we'll just re-use the kind of code you've previously written to do this: "
      ]
    },
    {
      "cell_type": "code",
      "metadata": {
        "colab": {
          "base_uri": "https://localhost:8080/",
          "height": 436
        },
        "id": "kFM8f17ZrBBi",
        "outputId": "f7a897e2-9e31-4149-fa2b-84c35fc05e22"
      },
      "source": [
        "import numpy as np\n",
        "\n",
        "# Calculating power in ergs/s\n",
        "w2erg = 10**7 # Conversion factors from watts to ergs per second\n",
        "int_m2 = 4*np.pi*(1.496*10**11)**2 # area to integrate over\n",
        "solar_data['longwave_masked (W/m^2)'] = solar_data['longwave_masked (W/m^2)']*w2erg*int_m2   \n",
        "# Renaming dataframe\n",
        "solar_data = solar_data.rename(columns={'longwave_masked (W/m^2)': 'longwave (ergs/s)'})  \n",
        "\n",
        "# Calculating elasped time from first data point\n",
        "solar_data.iloc[:,0] = solar_data.iloc[:,0]-solar_data.iloc[0,0]\n",
        "# Renaming dataframe\n",
        "solar_data = solar_data.rename(columns={'time (seconds since 2000-01-01)': 'time (s)'})  \n",
        "\n",
        "##### Displaying data frame #####\n",
        "display(solar_data)"
      ],
      "execution_count": null,
      "outputs": [
        {
          "output_type": "display_data",
          "data": {
            "text/html": [
              "<div>\n",
              "<style scoped>\n",
              "    .dataframe tbody tr th:only-of-type {\n",
              "        vertical-align: middle;\n",
              "    }\n",
              "\n",
              "    .dataframe tbody tr th {\n",
              "        vertical-align: top;\n",
              "    }\n",
              "\n",
              "    .dataframe thead th {\n",
              "        text-align: right;\n",
              "    }\n",
              "</style>\n",
              "<table border=\"1\" class=\"dataframe\">\n",
              "  <thead>\n",
              "    <tr style=\"text-align: right;\">\n",
              "      <th></th>\n",
              "      <th>time (seconds since 2000-01-01 12:00:00)</th>\n",
              "      <th>shortwave (W/m^2)</th>\n",
              "      <th>longwave (W/m^2)</th>\n",
              "      <th>shortwave_flag</th>\n",
              "      <th>longwave_flag</th>\n",
              "      <th>shortwave_masked (W/m^2)</th>\n",
              "      <th>longwave (ergs/s)</th>\n",
              "    </tr>\n",
              "  </thead>\n",
              "  <tbody>\n",
              "    <tr>\n",
              "      <th>0</th>\n",
              "      <td>0.0</td>\n",
              "      <td>1.000000e-09</td>\n",
              "      <td>4.494391e-07</td>\n",
              "      <td>16</td>\n",
              "      <td>16</td>\n",
              "      <td>1.000000e-09</td>\n",
              "      <td>1.263991e+24</td>\n",
              "    </tr>\n",
              "    <tr>\n",
              "      <th>1</th>\n",
              "      <td>60.0</td>\n",
              "      <td>1.000000e-09</td>\n",
              "      <td>4.434477e-07</td>\n",
              "      <td>16</td>\n",
              "      <td>16</td>\n",
              "      <td>1.000000e-09</td>\n",
              "      <td>1.247141e+24</td>\n",
              "    </tr>\n",
              "    <tr>\n",
              "      <th>2</th>\n",
              "      <td>120.0</td>\n",
              "      <td>1.000000e-09</td>\n",
              "      <td>4.413928e-07</td>\n",
              "      <td>16</td>\n",
              "      <td>16</td>\n",
              "      <td>1.000000e-09</td>\n",
              "      <td>1.241362e+24</td>\n",
              "    </tr>\n",
              "    <tr>\n",
              "      <th>3</th>\n",
              "      <td>180.0</td>\n",
              "      <td>1.000000e-09</td>\n",
              "      <td>4.373697e-07</td>\n",
              "      <td>16</td>\n",
              "      <td>16</td>\n",
              "      <td>1.000000e-09</td>\n",
              "      <td>1.230047e+24</td>\n",
              "    </tr>\n",
              "    <tr>\n",
              "      <th>4</th>\n",
              "      <td>240.0</td>\n",
              "      <td>1.000000e-09</td>\n",
              "      <td>4.324079e-07</td>\n",
              "      <td>16</td>\n",
              "      <td>16</td>\n",
              "      <td>1.000000e-09</td>\n",
              "      <td>1.216093e+24</td>\n",
              "    </tr>\n",
              "    <tr>\n",
              "      <th>...</th>\n",
              "      <td>...</td>\n",
              "      <td>...</td>\n",
              "      <td>...</td>\n",
              "      <td>...</td>\n",
              "      <td>...</td>\n",
              "      <td>...</td>\n",
              "      <td>...</td>\n",
              "    </tr>\n",
              "    <tr>\n",
              "      <th>234</th>\n",
              "      <td>14040.0</td>\n",
              "      <td>1.000000e-09</td>\n",
              "      <td>4.555387e-07</td>\n",
              "      <td>16</td>\n",
              "      <td>16</td>\n",
              "      <td>1.000000e-09</td>\n",
              "      <td>1.281145e+24</td>\n",
              "    </tr>\n",
              "    <tr>\n",
              "      <th>235</th>\n",
              "      <td>14100.0</td>\n",
              "      <td>1.000000e-09</td>\n",
              "      <td>4.529431e-07</td>\n",
              "      <td>16</td>\n",
              "      <td>16</td>\n",
              "      <td>1.000000e-09</td>\n",
              "      <td>1.273845e+24</td>\n",
              "    </tr>\n",
              "    <tr>\n",
              "      <th>236</th>\n",
              "      <td>14160.0</td>\n",
              "      <td>1.581271e-09</td>\n",
              "      <td>4.546130e-07</td>\n",
              "      <td>16</td>\n",
              "      <td>16</td>\n",
              "      <td>1.581271e-09</td>\n",
              "      <td>1.278542e+24</td>\n",
              "    </tr>\n",
              "    <tr>\n",
              "      <th>237</th>\n",
              "      <td>14220.0</td>\n",
              "      <td>1.505626e-09</td>\n",
              "      <td>4.494391e-07</td>\n",
              "      <td>16</td>\n",
              "      <td>16</td>\n",
              "      <td>1.505626e-09</td>\n",
              "      <td>1.263991e+24</td>\n",
              "    </tr>\n",
              "    <tr>\n",
              "      <th>238</th>\n",
              "      <td>14280.0</td>\n",
              "      <td>1.000000e-09</td>\n",
              "      <td>4.493093e-07</td>\n",
              "      <td>16</td>\n",
              "      <td>16</td>\n",
              "      <td>1.000000e-09</td>\n",
              "      <td>1.263626e+24</td>\n",
              "    </tr>\n",
              "  </tbody>\n",
              "</table>\n",
              "<p>239 rows × 7 columns</p>\n",
              "</div>"
            ],
            "text/plain": [
              "     time (seconds since 2000-01-01 12:00:00)  ...  longwave (ergs/s)\n",
              "0                                         0.0  ...       1.263991e+24\n",
              "1                                        60.0  ...       1.247141e+24\n",
              "2                                       120.0  ...       1.241362e+24\n",
              "3                                       180.0  ...       1.230047e+24\n",
              "4                                       240.0  ...       1.216093e+24\n",
              "..                                        ...  ...                ...\n",
              "234                                   14040.0  ...       1.281145e+24\n",
              "235                                   14100.0  ...       1.273845e+24\n",
              "236                                   14160.0  ...       1.278542e+24\n",
              "237                                   14220.0  ...       1.263991e+24\n",
              "238                                   14280.0  ...       1.263626e+24\n",
              "\n",
              "[239 rows x 7 columns]"
            ]
          },
          "metadata": {}
        }
      ]
    },
    {
      "cell_type": "markdown",
      "metadata": {
        "id": "VlG94uDerHLr"
      },
      "source": [
        "Next, let's plot the solar flare data as energy per second ($ergs/s$) versus time ($seconds$), so that we can clearly visualize the flare. Again, we've done this before, so we can reuse code:\n",
        "\n",
        "\n"
      ]
    },
    {
      "cell_type": "code",
      "metadata": {
        "colab": {
          "base_uri": "https://localhost:8080/",
          "height": 295
        },
        "id": "o5U0iL7_rXAR",
        "outputId": "e9fc8ac4-a336-473e-a76e-0667f3b3d528"
      },
      "source": [
        "import matplotlib.pyplot as plt\n",
        "\n",
        "plt.plot(solar_data.iloc[:,0], solar_data.iloc[:,1])  # Plot the solar data\n",
        "plt.title(\"Solar Flare\")\n",
        "plt.ylabel(\"Power (ergs/s)\")\n",
        "plt.xlabel(\"Time (s)\")\n",
        "\n",
        "plt.show()"
      ],
      "execution_count": null,
      "outputs": [
        {
          "output_type": "display_data",
          "data": {
            "image/png": "[encoded data removed]",
            "text/plain": [
              "<Figure size 432x288 with 1 Axes>"
            ]
          },
          "metadata": {
            "needs_background": "light"
          }
        }
      ]
    },
    {
      "cell_type": "markdown",
      "metadata": {
        "id": "MrNHESMDQNLW"
      },
      "source": [
        "## Basline correction\n",
        "\n",
        "As you learned in the Week 7 lecture, one of the primary challenges in determining the total energy of the flare is dealing with the \"background.\" The sun is giving off x-rays even before a flare happens, and we do not want to accidentally include the energy of those x-rays as part of the flare energy. As a result, we need to determine the amount of x-ray power being emitted before the flare (the \"baseline\") and subtract it from the observed power during the flare to make sure we are only determining the *new* energy created by the flare itself.\n",
        "\n",
        "Make sure your team has a clear plan for this; refer back to the Week 7 pre-lab lecture, the examples of baseline corrections on the Week 7 Canvas page, or  ask your TA if you need help! \n",
        "\n",
        "Hint:\n",
        "You will want to plot the data from the time period leading up to the flare in order to \"see\" it clearly and to decide on a strategy. For this part, we don't have to care yet about having time in seconds. In fact, it might be easier to leave time in arbitraty \"index\" units (i.e., data point 1, data point 2, data point 3, and so on). That way, it will be easy to discuss which data points you want to focus on. For example, maybe you think the pre-flare background is points 4 through 50. Then you can easily access these data points like this:\n",
        "\n",
        "`solar_data.iloc[4:50,1]`\n"
      ]
    },
    {
      "cell_type": "code",
      "metadata": {
        "id": "Rajr1XQ2E1VS"
      },
      "source": [
        ""
      ],
      "execution_count": null,
      "outputs": []
    },
    {
      "cell_type": "markdown",
      "metadata": {
        "id": "MucnLZ1A9sKY"
      },
      "source": [
        "## **Question 1:** In a new markdown cell, explain, in words, how you are doing the baseline correction and the reasoning behind the method you chose. Be as detailed as possible!\n"
      ]
    },
    {
      "cell_type": "markdown",
      "metadata": {
        "id": "yIV4q9VTKBr1"
      },
      "source": [
        "The baseline correction is alomost neglagible in this case. This is because the data surrounding this paticular flare was calmerthan the others we have worked with.\n",
        "  We plotted the curve right before a drastic increase, as seen below. There were small sharp peaks indicateing flares that we had not seen before. We used our math libraries to average this curve to get a \"baseline\".\n",
        "  We figured this was a safe methoed becaus ethe data surrounding our flare was so smooth."
      ]
    },
    {
      "cell_type": "code",
      "metadata": {
        "colab": {
          "base_uri": "https://localhost:8080/",
          "height": 295
        },
        "id": "D6pEfNoHQRh3",
        "outputId": "aba709f1-238f-42bc-ae94-0766d78deb4e"
      },
      "source": [
        "# You may need the statistics library for determining means and medians\n",
        "import statistics as stats     \n",
        "\n",
        "# You will need to plot your flare (as shown in the examples of baseline corrections notebook)\n",
        "# in order to look at the pre-flare data and show the baseline corrected flare\n",
        "import matplotlib.pyplot as plt\n",
        "\n",
        "# step 1: plot zoomed in data \n",
        "plt.plot(solar_data.iloc[0:130,1])   # Zoom in on data before the flare begins\n",
        "plt.title(\"Pre Flare Data\")\n",
        "plt.ylabel(\"Power (ergs/s)\")\n",
        "plt.xlabel(\"Time (minutes)\")\n",
        "\n",
        "# Take the average to get baseline\n",
        "avg_baseline = solar_data.iloc[0:130,1].mean()\n",
        "\n",
        "x_coordinates = [0,130]\n",
        "y_coordinates = [avg_baseline, avg_baseline]\n",
        "plt.plot(x_coordinates, y_coordinates, 'r--')\n",
        "plt.show()"
      ],
      "execution_count": null,
      "outputs": [
        {
          "output_type": "display_data",
          "data": {
            "image/png": "[encoded data removed]",
            "text/plain": [
              "<Figure size 432x288 with 1 Axes>"
            ]
          },
          "metadata": {
            "needs_background": "light"
          }
        }
      ]
    },
    {
      "cell_type": "code",
      "metadata": {
        "colab": {
          "base_uri": "https://localhost:8080/",
          "height": 312
        },
        "id": "BFs58KvmGifr",
        "outputId": "05a82c45-8226-49d5-cb79-b75c4cc2b578"
      },
      "source": [
        "# Subtract basline from the flare data\n",
        "solar_data_blremov = solar_data['longwave (ergs/s)'].subtract(avg_baseline)\n",
        "\n",
        "plt.plot(solar_data_blremov[0:130],'b--') # Used this range because it is the data before the solar flare\n",
        "plt.title(\"Solar data flare with Baseline Removed\")\n",
        "plt.ylabel(\"Power (ergs/s)\")\n",
        "plt.xlabel(\"Time (arbitrary units)\")\n",
        "\n",
        "# make another plot zoomed in on pre-flare\n",
        "plt.plot(solar_data[0:130], 'r--')              \n",
        "plt.title(\"Pre-flare data with Baseline Removed\")\n",
        "plt.ylabel(\"Power (ergs/s)\")\n",
        "plt.xlabel(\"Time (arbitrary units)\")\n",
        "x_coordinates = [0, 130]\n",
        "y_coordinates = [0, 0]\n",
        "plt.plot(x_coordinates, y_coordinates, 'g--')\n",
        "plt.show()\n",
        "\n",
        "print(\"Average baseline calculation:\",avg_baseline)"
      ],
      "execution_count": null,
      "outputs": [
        {
          "output_type": "display_data",
          "data": {
            "image/png": "[encoded data removed]",
            "text/plain": [
              "<Figure size 432x288 with 1 Axes>"
            ]
          },
          "metadata": {
            "needs_background": "light"
          }
        },
        {
          "output_type": "stream",
          "name": "stdout",
          "text": [
            "Average baseline calculation: 1.1070821163846125e-09\n"
          ]
        }
      ]
    },
    {
      "cell_type": "markdown",
      "metadata": {
        "id": "j8F5YIDlK-85"
      },
      "source": [
        "The average is so flat due to how flat our average is for our presolar flare"
      ]
    },
    {
      "cell_type": "markdown",
      "metadata": {
        "id": "cXwwc4c8Rovi"
      },
      "source": [
        "## Reporting total energy"
      ]
    },
    {
      "cell_type": "markdown",
      "metadata": {
        "id": "sSpQCjBvFGVh"
      },
      "source": [
        "Once you have determined the baseline and subtracted this \"background,\" you are ready to determine the total flare energy. Last week, we did this for a practice flare using a function we called `integrate.trapz`. Use this same function to compute the total energy of your new flare, referring back to your work last week if you need to.\n",
        "\n",
        "Note: As several of our teams learned last week, this function is a little tricky! Make sure to use the appropiate limits for integration by indexing the `x` and `y` variables. You also have to tell it both the y-data AND the x-data to get the integration right (by default, it integrates assuming the x-coordinates are 1, 2, 3, 4, etc.) Be careful with that this week!\n"
      ]
    },
    {
      "cell_type": "markdown",
      "metadata": {
        "id": "NkW2VlIV6yRn"
      },
      "source": [
        "## **Question 2:** In a new markdown cell, describe how you are computing the total energy produced by the flare."
      ]
    },
    {
      "cell_type": "markdown",
      "metadata": {
        "id": "DRkGMvoMM1nP"
      },
      "source": [
        "After removing the background data, described by the baseline correction, we can solve for the sum. To get the total sum of irradience we integrate this curve. In Python, this is done by using the library scipy.integrate. Specifically, we are using the trapaziodal rule of integration. We do this opperation for the area under the curve including the \"basline\" and excluding the \"baseline\". We graph and diplay the sum of both. After doing the opperations, it confirms that our calculated baseline is relatively arbitrary, as the sums are nearly identical."
      ]
    },
    {
      "cell_type": "code",
      "metadata": {
        "colab": {
          "base_uri": "https://localhost:8080/",
          "height": 607
        },
        "id": "wURiE2BoR2fg",
        "outputId": "317f4bb7-55e7-43b2-a840-33d04176a23b"
      },
      "source": [
        "#We are using trapezoidal integradion ('integreat.trapz')\n",
        "import scipy.integrate as integrate\n",
        "\n",
        "plt.plot(solar_data_blremov[130:150], '.-') #the starting point was 130 because it was just before the power in ergs/s rose sharply\n",
        "plt.title(\"Solar Data Flare Start\")\n",
        "plt.ylabel(\"Power (ergs/s)\")\n",
        "plt.xlabel(\"Time (arbitrary units)\")\n",
        "plt.show()\n",
        "\n",
        "plt.plot(solar_data_blremov[150:200], '.-') #the end started at 170 because there is a very tiny flare at the end that seems relatively irrelevant\n",
        "plt.title(\"Solar Data Flare End\")\n",
        "plt.ylabel(\"Power (ergs/s)\")\n",
        "plt.xlabel(\"Time (arbitrary units)\")\n",
        "plt.show()\n",
        "\n",
        "# Calculte area under the curve without baseline correction\n",
        "# Note, the y variable comes BEFORE the x variable in integrate.trapz\n",
        "A_woblc = integrate.trapz(solar_data['longwave (ergs/s)'].iloc[135:180], solar_data.iloc[135:180,0])   #using many tiny trapezoidal shapes and adding it all together the area under the curve was found\n",
        "\n",
        "print('\\n Total area under the curve without baseline correction: ', A_woblc, ' ergs')\n",
        "\n",
        "\n"
      ],
      "execution_count": null,
      "outputs": [
        {
          "output_type": "display_data",
          "data": {
            "image/png": "[encoded data removed]",
            "text/plain": [
              "<Figure size 432x288 with 1 Axes>"
            ]
          },
          "metadata": {
            "needs_background": "light"
          }
        },
        {
          "output_type": "display_data",
          "data": {
            "image/png": "[encoded data removed]",
            "text/plain": [
              "<Figure size 432x288 with 1 Axes>"
            ]
          },
          "metadata": {
            "needs_background": "light"
          }
        },
        {
          "output_type": "stream",
          "name": "stdout",
          "text": [
            "\n",
            " Total area under the curve without baseline correction:  2.2220889661595984e+28  ergs\n"
          ]
        }
      ]
    },
    {
      "cell_type": "code",
      "metadata": {
        "colab": {
          "base_uri": "https://localhost:8080/",
          "height": 221
        },
        "id": "nskLjJxi986D",
        "outputId": "f713f595-7284-46f5-b3bb-f41552b33a1d"
      },
      "source": [
        "display(solar_data_blremov)"
      ],
      "execution_count": null,
      "outputs": [
        {
          "output_type": "display_data",
          "data": {
            "text/plain": [
              "0      1.263991e+24\n",
              "1      1.247141e+24\n",
              "2      1.241362e+24\n",
              "3      1.230047e+24\n",
              "4      1.216093e+24\n",
              "           ...     \n",
              "234    1.281145e+24\n",
              "235    1.273845e+24\n",
              "236    1.278542e+24\n",
              "237    1.263991e+24\n",
              "238    1.263626e+24\n",
              "Name: longwave (ergs/s), Length: 239, dtype: float64"
            ]
          },
          "metadata": {}
        }
      ]
    },
    {
      "cell_type": "code",
      "metadata": {
        "colab": {
          "base_uri": "https://localhost:8080/"
        },
        "id": "f1496wu-9_LI",
        "outputId": "6244f42a-4b67-4289-e088-f34d5fb23af9"
      },
      "source": [
        "A_wblc = integrate.trapz(solar_data_blremov.iloc[135:180], solar_data.iloc[135:180,0])   \n",
        "\n",
        "print('\\n Total area under the curve with baseline correction: ', A_wblc, ' ergs')\n"
      ],
      "execution_count": null,
      "outputs": [
        {
          "output_type": "stream",
          "name": "stdout",
          "text": [
            "\n",
            " Total area under the curve with baseline correction:  2.2220889661595984e+28  ergs\n"
          ]
        }
      ]
    },
    {
      "cell_type": "markdown",
      "metadata": {
        "id": "pkg_X9ccPEpp"
      },
      "source": [
        "The reason the total area under the curve with and without the baseline correction (2.2220889661595984e+28) ergs is the same is because the longwave (ergs) column is so large (e.g. 1.263991e+24) and the baseline correction value is so small (e.g. 1.1070821163846125e-09). We checked this by hand and found that relative to the total energy the baseline correction is negligible.\n"
      ]
    },
    {
      "cell_type": "code",
      "metadata": {
        "id": "EvE2IXgX-p_j",
        "colab": {
          "base_uri": "https://localhost:8080/"
        },
        "outputId": "f735547b-1ed5-45fa-dc0f-785b61c55b61"
      },
      "source": [
        "pd1 = ((A_woblc - A_wblc)/A_woblc)*100\n",
        "print('\\n The percent difference in energy calculated \\n when doing a baseline correction using the \\n \"subtract the average\" method comparing to not doing a \\n baseline correction at all: ', pd1, '%')"
      ],
      "execution_count": null,
      "outputs": [
        {
          "output_type": "stream",
          "name": "stdout",
          "text": [
            "\n",
            " The percent difference in energy calculated \n",
            " when doing a baseline correction using the \n",
            " \"subtract the average\" method comparing to not doing a \n",
            " baseline correction at all:  0.0 %\n"
          ]
        }
      ]
    },
    {
      "cell_type": "markdown",
      "metadata": {
        "id": "gPt7cY5srceC"
      },
      "source": [
        "# **Task 3: Comment, save and print to PDF**\n",
        "\n",
        "Last, after completing each Colab notebook this semester, you will need to save and turn in *both* a .ipynb file and a PDF to Canvas. Even on team assignments like this, each member of the team will be required to submit an **identical** copy of the assignment to Canvas to receive credit.\n",
        "\n",
        "## **Make sure all the code cells have been executed**\n",
        "\n",
        "\"Executed\" means that you have pressed all the \"play\" buttons on the code cells.\n",
        "\n",
        "## **Save as a .ipynb**\n",
        "\n",
        "To save your Colab notebook as a .ipynb file, click on \"File\" -> \"Download .ipynb\". The file should automatically be saved to your computer's Downloads folder. \n",
        "\n",
        "## **Save as a PDF**\n",
        "\n",
        "* To save this Colab Notebook as a PDF click File -> Print.\n",
        "\n",
        "* In the printer dialog box select \"Save as PDF\" as your destination and click \"Save\".  \n",
        "\n",
        "* Check the PDF to make sure everything has been printed properly.\n",
        "\n",
        "* In Canvas, upload the PDF file as an assignment.\n",
        "\n",
        "* If you run into an error or need help, ask your TA!\n",
        "\n",
        "**This assignment is due by 11pm MT the day after your Week 9 lab section.**"
      ]
    },
    {
      "cell_type": "markdown",
      "metadata": {
        "id": "ENkEMvazTesz"
      },
      "source": [
        "## **Task 6*: Find more flares!**\n",
        "\n",
        "If time allows, choose another flare from C through X class! When analyzing an additional flare, create a **new** Colab Notebook for each new flare. Follow the same procedure from above to report the total energy of the flare.\n",
        "\n",
        "As before, make sure to provide a detailed description of the flares, which includes the date and time (in UCT) of the peak of the flare, as well as the subclass (e.g., C5.3) and other descriptive information. "
      ]
    }
  ]
}